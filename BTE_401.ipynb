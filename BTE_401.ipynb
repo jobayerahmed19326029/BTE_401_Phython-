{
  "nbformat": 4,
  "nbformat_minor": 0,
  "metadata": {
    "colab": {
      "provenance": []
    },
    "kernelspec": {
      "name": "python3",
      "display_name": "Python 3"
    },
    "language_info": {
      "name": "python"
    }
  },
  "cells": [
    {
      "cell_type": "code",
      "execution_count": null,
      "metadata": {
        "id": "QXdrLI9sb3Ek"
      },
      "outputs": [],
      "source": [
        "seq_str = \"\"\"\n",
        "ATGGCACATGCAGCGCAAGTAGGTCTACAAGACGCTACTTCCCCTATCATAGAAGAGCTTATCACCTTTC\n",
        "ATGATCACGCCCTCATAATCATTTTCCTTATCTGCTTCCTAGTCCTGTATGCCCTTTTCCTAACACTCAC\n",
        "AACAAAACTAACTAATACTAACATCTCAGACGCTCAGGAAATAGAAACCGTCTGAACTATCCTGCCCGCC\n",
        "ATCATCCTAGTCCTCATCGCCCTCCCATCCCTACGCATCCTTTACATAACAGACGAGGTCAACGATCCCT\n",
        "CCCTTACCATCAAATCAATTGGCCACCAATGGTACTGAACCTACGAGTACACCGACTACGGCGGACTAAT\n",
        "CTTCAACTCCTACATACTTCCCCCATTATTCCTAGAACCAGGCGACCTGCGACTCCTTGACGTTGACAAT\n",
        "CGAGTAGTACTCCCGATTGAAGCCCCCATTCGTATAATAATTACATCACAAGACGTCTTGCACTCATGAG\n",
        "CTGTCCCCACATTAGGCTTAAAAACAGATGCAATTCCCGGACGTCTAAACCAAACCACTTTCACCGCTAC\n",
        "ACGACCGGGGGTATACTACGGTCAATGCTCTGAAATCTGTGGAGCAAACCACAGTTTCATGCCCATCGTC\n",
        "CTAGAATTAATTCCCCTAAAAATCTTTGAAATAGGGCCCGTATTTACCCTATAG\n",
        "\"\"\"\n",
        "\n",
        "promo_seq = input(\"Enter promoter sequence: \")\n",
        "\n",
        "def find_gene(seq_str, promo_seq, max_dist=30, min_gene_len=50):\n",
        "    promo_idx = seq_str.find(promo_seq)\n",
        "    if promo_idx != -1:\n",
        "        for i in range(promo_idx, promo_idx + max_dist + 1):\n",
        "            if seq_str[i:i + 3] == 'ATG':\n",
        "                gene_seq = seq_str[i:]\n",
        "                stop_codons = ['TAA', 'TAG', 'TGA']\n",
        "                for j in range(3, len(gene_seq), 3):\n",
        "                    codon = gene_seq[j:j + 3]\n",
        "                    if codon in stop_codons:\n",
        "                        gene_len = j // 3\n",
        "                        if gene_len >= min_gene_len:\n",
        "                            return True\n",
        "                        else:\n",
        "                            return False\n",
        "                return False\n",
        "    return False\n",
        "\n",
        "if find_gene(seq_str, promo_seq):\n",
        "    print(\"Gene found\")\n",
        "else:\n",
        "    print(\"Gene not found\")\n"
      ]
    }
  ]
}